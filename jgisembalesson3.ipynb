{
  "nbformat": 4,
  "nbformat_minor": 0,
  "metadata": {
    "colab": {
      "provenance": [],
      "authorship_tag": "ABX9TyNRoJ0WAVd2sf7ZKzDNyiwi",
      "include_colab_link": true
    },
    "kernelspec": {
      "name": "python3",
      "display_name": "Python 3"
    },
    "language_info": {
      "name": "python"
    }
  },
  "cells": [
    {
      "cell_type": "markdown",
      "metadata": {
        "id": "view-in-github",
        "colab_type": "text"
      },
      "source": [
        "<a href=\"https://colab.research.google.com/github/Jerethecreator/ml-course/blob/master/jgisembalesson3.ipynb\" target=\"_parent\"><img src=\"https://colab.research.google.com/assets/colab-badge.svg\" alt=\"Open In Colab\"/></a>"
      ]
    },
    {
      "cell_type": "code",
      "execution_count": 1,
      "metadata": {
        "id": "r--tcd-7FxSo"
      },
      "outputs": [],
      "source": [
        "import numpy as np"
      ]
    },
    {
      "cell_type": "code",
      "source": [
        "from sklearn.datasets import load_iris\n",
        "data = load_iris()\n",
        "X, Y = data.data, data.target"
      ],
      "metadata": {
        "id": "8I6LLyPbFyLs"
      },
      "execution_count": 2,
      "outputs": []
    },
    {
      "cell_type": "code",
      "source": [
        "Y"
      ],
      "metadata": {
        "colab": {
          "base_uri": "https://localhost:8080/"
        },
        "id": "HV7Y6nWYF_dh",
        "outputId": "2a4773ff-7607-4225-f283-5ce5cd07c2c8"
      },
      "execution_count": 3,
      "outputs": [
        {
          "output_type": "execute_result",
          "data": {
            "text/plain": [
              "array([0, 0, 0, 0, 0, 0, 0, 0, 0, 0, 0, 0, 0, 0, 0, 0, 0, 0, 0, 0, 0, 0,\n",
              "       0, 0, 0, 0, 0, 0, 0, 0, 0, 0, 0, 0, 0, 0, 0, 0, 0, 0, 0, 0, 0, 0,\n",
              "       0, 0, 0, 0, 0, 0, 1, 1, 1, 1, 1, 1, 1, 1, 1, 1, 1, 1, 1, 1, 1, 1,\n",
              "       1, 1, 1, 1, 1, 1, 1, 1, 1, 1, 1, 1, 1, 1, 1, 1, 1, 1, 1, 1, 1, 1,\n",
              "       1, 1, 1, 1, 1, 1, 1, 1, 1, 1, 1, 1, 2, 2, 2, 2, 2, 2, 2, 2, 2, 2,\n",
              "       2, 2, 2, 2, 2, 2, 2, 2, 2, 2, 2, 2, 2, 2, 2, 2, 2, 2, 2, 2, 2, 2,\n",
              "       2, 2, 2, 2, 2, 2, 2, 2, 2, 2, 2, 2, 2, 2, 2, 2, 2, 2])"
            ]
          },
          "metadata": {},
          "execution_count": 3
        }
      ]
    },
    {
      "cell_type": "code",
      "source": [
        "# only classify class 1 vs. class 2\n",
        "# Your code here\n",
        "idxs = Y > 0\n",
        "X = X[idxs, :]\n",
        "Y = Y[idxs]\n",
        "\n",
        "Y -= 1 #We need our label to be 0 and 1\n",
        "\n",
        "assert X.shape == (100, 4) #just to make sure"
      ],
      "metadata": {
        "id": "JJeaNsb0GFkp"
      },
      "execution_count": 4,
      "outputs": []
    },
    {
      "cell_type": "code",
      "source": [
        "x_means = np.mean(X, axis=0)\n",
        "x_stdev = np.std(X, axis=0)\n",
        "X = (X - x_means) / x_stdev"
      ],
      "metadata": {
        "id": "N0p_oETYGIzM"
      },
      "execution_count": 5,
      "outputs": []
    },
    {
      "cell_type": "code",
      "source": [
        "# Your code here\n",
        "X = np.hstack([np.ones((X.shape[0], 1)), X])\n",
        "\n",
        "# checking the shape of X\n",
        "assert X.shape == (100, 5)"
      ],
      "metadata": {
        "id": "410b0X0VGMCa"
      },
      "execution_count": 6,
      "outputs": []
    },
    {
      "cell_type": "code",
      "source": [
        "# Your code here\n",
        "weight = np.zeros((X.shape[1]))\n",
        "assert weight.shape == (5, )"
      ],
      "metadata": {
        "id": "Wg6nhKFWGOV5"
      },
      "execution_count": 7,
      "outputs": []
    },
    {
      "cell_type": "code",
      "source": [
        "def sigmoid(z):\n",
        "    # Your code here\n",
        "    z = 1/ (1 + np.exp(-z))\n",
        "    return z"
      ],
      "metadata": {
        "id": "H3u8wDVPGQeZ"
      },
      "execution_count": 8,
      "outputs": []
    },
    {
      "cell_type": "code",
      "source": [
        "def accuracy(X, Y, weight):\n",
        "    '''\n",
        "    Evaluate the model, represented by `weight`, with data (X, Y).\n",
        "    \n",
        "    Input:\n",
        "        X:      data features\n",
        "        Y:      data labels\n",
        "        weight: model weights\n",
        "    Ouput:\n",
        "        Model accuracy on input data.\n",
        "    '''\n",
        "    # implement your code here. Below are only some suggestion. \n",
        "    # You don't necessary have to follow the exact step\n",
        "\n",
        "    #Step 1: get the model prediction\n",
        "    probability = sigmoid(X @ weight)\n",
        "    #Step 2: Threshold the probability value to get the class. \n",
        "    pred = probability > 0.5\n",
        "    #Step 3: Compare your model predicted classes with the label y\n",
        "    pred = (pred == Y)\n",
        "\n",
        "    #step 4: calculate the accuracy using the formula above\n",
        "    return np.sum(pred) / len(pred)"
      ],
      "metadata": {
        "id": "AIy19SVpGTSh"
      },
      "execution_count": 9,
      "outputs": []
    },
    {
      "cell_type": "code",
      "source": [
        "for i in range(len(pred)):\n",
        "    if pred[i] == Y"
      ],
      "metadata": {
        "colab": {
          "base_uri": "https://localhost:8080/",
          "height": 130
        },
        "id": "BwMPg__PGVYy",
        "outputId": "64e04ee9-cbe4-4b76-ec7a-f37aa4bfb645"
      },
      "execution_count": 10,
      "outputs": [
        {
          "output_type": "error",
          "ename": "SyntaxError",
          "evalue": "ignored",
          "traceback": [
            "\u001b[0;36m  File \u001b[0;32m\"<ipython-input-10-f3541eb44a7c>\"\u001b[0;36m, line \u001b[0;32m2\u001b[0m\n\u001b[0;31m    if pred[i] == Y\u001b[0m\n\u001b[0m                   ^\u001b[0m\n\u001b[0;31mSyntaxError\u001b[0m\u001b[0;31m:\u001b[0m invalid syntax\n"
          ]
        }
      ]
    },
    {
      "cell_type": "code",
      "source": [
        "# learning rate\n",
        "alpha = 1e-2\n",
        "# epochs\n",
        "epoch = 10000"
      ],
      "metadata": {
        "id": "whu66DGLGaeL"
      },
      "execution_count": 12,
      "outputs": []
    },
    {
      "cell_type": "code",
      "source": [
        "# your code here\n",
        "for ep in range(epoch):\n",
        "    pred = sigmoid(X @ weight)\n",
        "    loss = -np.sum(Y * np.log(pred) + (1 - Y) * np.log(1 - pred)) / len(Y)\n",
        "    gradient = X.T @ (pred - Y) / len(pred)\n",
        "    weight -= alpha * gradient\n",
        "    acc = accuracy (X, Y, weight)\n",
        "    if ep % 1000 == 0: print(f\"Epoch {ep}:    Loss: {loss:8.05f}    Accuracy {acc*100:.03f}%\")"
      ],
      "metadata": {
        "colab": {
          "base_uri": "https://localhost:8080/"
        },
        "id": "ZIYkT-CQGdVJ",
        "outputId": "0e6ee26a-7c9f-4dc3-a2e4-e79439a5e7f5"
      },
      "execution_count": 13,
      "outputs": [
        {
          "output_type": "stream",
          "name": "stdout",
          "text": [
            "Epoch 0:    Loss:  0.69315    Accuracy 90.000%\n",
            "Epoch 1000:    Loss:  0.20629    Accuracy 94.000%\n",
            "Epoch 2000:    Loss:  0.15382    Accuracy 95.000%\n",
            "Epoch 3000:    Loss:  0.13005    Accuracy 95.000%\n",
            "Epoch 4000:    Loss:  0.11631    Accuracy 96.000%\n",
            "Epoch 5000:    Loss:  0.10727    Accuracy 96.000%\n",
            "Epoch 6000:    Loss:  0.10084    Accuracy 96.000%\n",
            "Epoch 7000:    Loss:  0.09600    Accuracy 96.000%\n",
            "Epoch 8000:    Loss:  0.09221    Accuracy 96.000%\n",
            "Epoch 9000:    Loss:  0.08915    Accuracy 96.000%\n"
          ]
        }
      ]
    },
    {
      "cell_type": "code",
      "source": [
        "# just to double check\n",
        "assert np.allclose(weight, np.array([0.12047504, -0.44156746, -0.89309501, 2.965364, 3.3427994]))"
      ],
      "metadata": {
        "id": "UOiCal-nGgTB"
      },
      "execution_count": 14,
      "outputs": []
    },
    {
      "cell_type": "code",
      "source": [
        "# model accuracy\n",
        "accuracy(X, Y, weight)"
      ],
      "metadata": {
        "colab": {
          "base_uri": "https://localhost:8080/"
        },
        "id": "mgn8-Zl9Gic5",
        "outputId": "93e59c0a-bee1-42f7-ab3f-e8608e89246a"
      },
      "execution_count": 15,
      "outputs": [
        {
          "output_type": "execute_result",
          "data": {
            "text/plain": [
              "0.96"
            ]
          },
          "metadata": {},
          "execution_count": 15
        }
      ]
    },
    {
      "cell_type": "code",
      "source": [],
      "metadata": {
        "id": "Rir1X7oiGgZX"
      },
      "execution_count": null,
      "outputs": []
    }
  ]
}