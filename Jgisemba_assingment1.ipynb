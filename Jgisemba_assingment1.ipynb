{
  "nbformat": 4,
  "nbformat_minor": 0,
  "metadata": {
    "colab": {
      "provenance": [],
      "authorship_tag": "ABX9TyPtvXgiKkJ+YVUXxazg5p84",
      "include_colab_link": true
    },
    "kernelspec": {
      "name": "python3",
      "display_name": "Python 3"
    },
    "language_info": {
      "name": "python"
    }
  },
  "cells": [
    {
      "cell_type": "markdown",
      "metadata": {
        "id": "view-in-github",
        "colab_type": "text"
      },
      "source": [
        "<a href=\"https://colab.research.google.com/github/Jerethecreator/ml-course/blob/master/Jgisemba_assingment1.ipynb\" target=\"_parent\"><img src=\"https://colab.research.google.com/assets/colab-badge.svg\" alt=\"Open In Colab\"/></a>"
      ]
    },
    {
      "cell_type": "code",
      "execution_count": null,
      "metadata": {
        "id": "Z3RWzrd-T1S-"
      },
      "outputs": [],
      "source": [
        "def is_triangle(a, b, c):\n",
        "     if a + b > c and a + c > b and b + c > a:\n",
        "        return True\n",
        "     else:\n",
        "        return False\n",
        "    \n",
        "a=int(input(\"Enter first edge\"))\n",
        "b=int(input(\"Enter second edge\"))\n",
        "c=int(input(\"Enter third edge\"))\n",
        "\n",
        "print(is_triangle(a, b, c))"
      ]
    },
    {
      "cell_type": "code",
      "source": [
        "for i in range(1,10,2):\n",
        "    print(i)"
      ],
      "metadata": {
        "id": "PXZbEghQU8nd"
      },
      "execution_count": null,
      "outputs": []
    },
    {
      "cell_type": "code",
      "source": [
        "def get_reverse(text):\n",
        "    rever = text[::-1];\n"
      ],
      "metadata": {
        "id": "jINGA48ZWzDa"
      },
      "execution_count": 30,
      "outputs": []
    },
    {
      "cell_type": "code",
      "source": [
        "def set_symmetric_difference(set1, set2):\n",
        "    new_set = set()\n",
        "    for element in set1:\n",
        "        if element not in set2:\n",
        "            new_set.add(element)\n",
        "    for element in set2:\n",
        "        if element not in set1:\n",
        "            new_set.add(element)\n",
        "    return new_set"
      ],
      "metadata": {
        "id": "c-A-8rX7YDV5"
      },
      "execution_count": 26,
      "outputs": []
    },
    {
      "cell_type": "code",
      "source": [
        "def remove_from_list(a, x): \n",
        "    a = int[10, 20, 10, 30, 40, 50, 10, 0]\n",
        "    for i in range(a.count(x)): \n",
        "        a.remove(x) \n",
        "  \n",
        "a.remove(10) \n",
        "print(a)"
      ],
      "metadata": {
        "id": "I5Eib70cbrEH"
      },
      "execution_count": null,
      "outputs": []
    },
    {
      "cell_type": "code",
      "source": [
        "class Student:\n",
        "    def __init__(self):\n",
        "        self.name = \"\"\n",
        "        self.score = 0\n",
        "\n",
        "    def get_score(self):\n",
        "        return self.score\n",
        "\n",
        "    def describe(self):\n",
        "        print(self.name + \": \" + str(self.score))"
      ],
      "metadata": {
        "id": "AvT4wMMVc2w3"
      },
      "execution_count": 40,
      "outputs": []
    },
    {
      "cell_type": "code",
      "source": [
        "class Employee(Person):\n",
        "    def __init__(self, name):\n",
        "        self.name = name\n",
        "    def speak(self, word):\n",
        "        if word[0] == \"I\" or word[0] == \"i\":\n",
        "            print(\"Employee {} spoke {}\".format(self.name, word))\n",
        "        else:\n",
        "            print(\"{} said {}\".format(self.name, word))"
      ],
      "metadata": {
        "id": "PTPun7s6h6r2"
      },
      "execution_count": null,
      "outputs": []
    },
    {
      "cell_type": "code",
      "source": [
        "for key in country_capital.keys():\n",
        "    print(key + \":\" + country_capital[key])"
      ],
      "metadata": {
        "id": "ZBZGvBFlh7K-"
      },
      "execution_count": null,
      "outputs": []
    },
    {
      "cell_type": "code",
      "source": [
        "def solve_equation(a, b, c):\n",
        "  discriminant = b**2 - 4*a*c\n",
        "  if discriminant > 0:\n",
        "      print(\"Equation has two solutions\", (-b+math.sqrt(discriminant))/(2*a), \"and\", (-b-math.sqrt(discriminant))/(2*a))\n",
        "  elif discriminant == 0:\n",
        "      print(\"Equation has one solution\", -b/(2*a))\n",
        "  else:\n",
        "      print(\"No solution\")"
      ],
      "metadata": {
        "id": "5ez1d9rhh7Z-"
      },
      "execution_count": 39,
      "outputs": []
    }
  ]
}