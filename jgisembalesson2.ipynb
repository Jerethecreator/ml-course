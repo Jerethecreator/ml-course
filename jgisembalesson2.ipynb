{
  "nbformat": 4,
  "nbformat_minor": 0,
  "metadata": {
    "colab": {
      "provenance": [],
      "authorship_tag": "ABX9TyM9Jn0esJ519WaSlXriYq8I",
      "include_colab_link": true
    },
    "kernelspec": {
      "name": "python3",
      "display_name": "Python 3"
    },
    "language_info": {
      "name": "python"
    }
  },
  "cells": [
    {
      "cell_type": "markdown",
      "metadata": {
        "id": "view-in-github",
        "colab_type": "text"
      },
      "source": [
        "<a href=\"https://colab.research.google.com/github/Jerethecreator/ml-course/blob/master/jgisembalesson2.ipynb\" target=\"_parent\"><img src=\"https://colab.research.google.com/assets/colab-badge.svg\" alt=\"Open In Colab\"/></a>"
      ]
    },
    {
      "cell_type": "code",
      "execution_count": null,
      "metadata": {
        "colab": {
          "base_uri": "https://localhost:8080/"
        },
        "id": "f1vlT1lXviYA",
        "outputId": "05f42762-01f9-48a8-f738-16f67eb02de8"
      },
      "outputs": [
        {
          "output_type": "stream",
          "name": "stdout",
          "text": [
            "Looking in indexes: https://pypi.org/simple, https://us-python.pkg.dev/colab-wheels/public/simple/\n",
            "Collecting scikit-learn==0.24.2\n",
            "  Downloading scikit_learn-0.24.2-cp37-cp37m-manylinux2010_x86_64.whl (22.3 MB)\n",
            "\u001b[K     |████████████████████████████████| 22.3 MB 1.4 MB/s \n",
            "\u001b[?25hRequirement already satisfied: threadpoolctl>=2.0.0 in /usr/local/lib/python3.7/dist-packages (from scikit-learn==0.24.2) (3.1.0)\n",
            "Requirement already satisfied: numpy>=1.13.3 in /usr/local/lib/python3.7/dist-packages (from scikit-learn==0.24.2) (1.21.6)\n",
            "Requirement already satisfied: joblib>=0.11 in /usr/local/lib/python3.7/dist-packages (from scikit-learn==0.24.2) (1.2.0)\n",
            "Requirement already satisfied: scipy>=0.19.1 in /usr/local/lib/python3.7/dist-packages (from scikit-learn==0.24.2) (1.7.3)\n",
            "Installing collected packages: scikit-learn\n",
            "  Attempting uninstall: scikit-learn\n",
            "    Found existing installation: scikit-learn 1.0.2\n",
            "    Uninstalling scikit-learn-1.0.2:\n",
            "      Successfully uninstalled scikit-learn-1.0.2\n",
            "\u001b[31mERROR: pip's dependency resolver does not currently take into account all the packages that are installed. This behaviour is the source of the following dependency conflicts.\n",
            "yellowbrick 1.5 requires scikit-learn>=1.0.0, but you have scikit-learn 0.24.2 which is incompatible.\u001b[0m\n",
            "Successfully installed scikit-learn-0.24.2\n"
          ]
        }
      ],
      "source": [
        "!pip install scikit-learn==0.24.2\n"
      ]
    },
    {
      "cell_type": "code",
      "source": [
        "import numpy as np \n",
        "import sklearn\n",
        "# we used the library sklearn here only to load the data\n",
        "\n",
        "# You dont have to care about matplotlib for now\n",
        "import matplotlib.pyplot as plt\n",
        "\n",
        "# load data from sklearn\n",
        "from sklearn.datasets import load_boston\n",
        "data = load_boston()\n"
      ],
      "metadata": {
        "id": "Of0ovN1Pv5sm"
      },
      "execution_count": null,
      "outputs": []
    },
    {
      "cell_type": "code",
      "source": [
        "print(data.keys())\n",
        "X= data.data\n",
        "y = data.target\n",
        "feature_names = data.feature_names\n",
        "print('data.data :{0}, data.target: {1}, num_features: {2}'.format(X.shape, y.shape, len(feature_names)))\n",
        "print('num_datapoints : {}'.format(X.shape[0]))"
      ],
      "metadata": {
        "colab": {
          "base_uri": "https://localhost:8080/"
        },
        "id": "VUy1ZIVown_F",
        "outputId": "ccb8a73d-afb8-40d6-f16c-d9812afae0c1"
      },
      "execution_count": null,
      "outputs": [
        {
          "output_type": "stream",
          "name": "stdout",
          "text": [
            "dict_keys(['data', 'target', 'feature_names', 'DESCR', 'filename'])\n",
            "data.data :(506, 13), data.target: (506,), num_features: 13\n",
            "num_datapoints : 506\n"
          ]
        }
      ]
    },
    {
      "cell_type": "code",
      "source": [
        "# https://scipy-lectures.org/packages/scikit-learn/auto_examples/plot_boston_prediction.html\n",
        "def label_histogram():\n",
        "    plt.figure(figsize=(6, 5))\n",
        "    plt.hist(y)\n",
        "    plt.xlabel('price ($1000s)')\n",
        "    plt.ylabel('count')\n",
        "    plt.tight_layout()"
      ],
      "metadata": {
        "id": "ATlHJsaLwu5_"
      },
      "execution_count": null,
      "outputs": []
    },
    {
      "cell_type": "code",
      "source": [
        "\n",
        "label_histogram()"
      ],
      "metadata": {
        "colab": {
          "base_uri": "https://localhost:8080/",
          "height": 369
        },
        "id": "OWhk9WodwyoE",
        "outputId": "ec2a5d01-819f-4a65-e076-443fbe8da5e9"
      },
      "execution_count": null,
      "outputs": [
        {
          "output_type": "display_data",
          "data": {
            "text/plain": [
              "<Figure size 432x360 with 1 Axes>"
            ],
            "image/png": "[encoded data removed]"
          },
          "metadata": {
            "needs_background": "light"
          }
        }
      ]
    },
    {
      "cell_type": "code",
      "source": [
        "## PLOTING PRCIES AGAINST EACH FEATURE\n",
        "def price_single_feature_ploting(input_data, feature_names):\n",
        "    fig, axes = plt.subplots(5, 3, figsize = (15, 15))\n",
        "    plt.subplots_adjust(bottom=0.1, right=0.8, top=0.9)\n",
        "    for index, (ax, feature_name) in enumerate(zip(axes.flat[:-2],feature_names)): \n",
        "        ax.scatter(input_data[:, index], y)\n",
        "        ax.set(xlabel=feature_name, ylabel='Price')"
      ],
      "metadata": {
        "id": "iDTd6bttw5qM"
      },
      "execution_count": null,
      "outputs": []
    },
    {
      "cell_type": "code",
      "source": [
        "price_single_feature_ploting(X, feature_names)"
      ],
      "metadata": {
        "id": "HQQ0XuD4xAq1"
      },
      "execution_count": null,
      "outputs": []
    },
    {
      "cell_type": "code",
      "source": [
        "def training(X, y):\n",
        "  model = LinearRegression()\n",
        "  model.fit(X,y)\n",
        "  return model.coef_,model.intercept_st"
      ],
      "metadata": {
        "id": "VBWVd4IB7BDd"
      },
      "execution_count": 3,
      "outputs": []
    },
    {
      "cell_type": "code",
      "source": [
        "def prediction(X, coefficients, intercept):\n",
        "    model=LinearRegression()\n",
        "    model.fit(X,y)\n",
        "    y_predict= model.predict(X)\n",
        "    return y_predict"
      ],
      "metadata": {
        "id": "cozT63L6C9DM"
      },
      "execution_count": 4,
      "outputs": []
    },
    {
      "cell_type": "code",
      "source": [
        "def MSE(X, y_target, coefficients, intercept):\n",
        "  y_predict =prediction(X, coefficients, intercept)\n",
        "  assert len(y_predict) == len(y_target)\n",
        "  MSE =mean_squared_error(y_target,y_predict)\n",
        "  return MSE"
      ],
      "metadata": {
        "id": "hSEsJSbbC9Qx"
      },
      "execution_count": 5,
      "outputs": []
    },
    {
      "cell_type": "code",
      "source": [
        "def visualize_results(y_predict, y_target):\n",
        "    \"\"\" this function plot your y_predict and y_predict to see how closed they are\"\"\"\n",
        "    \n",
        "    plt.figure(figsize=(5, 4))\n",
        "    plt.scatter(y_target, y_predict)\n",
        "    plt.plot([0, 50], [0, 50], '--k')\n",
        "    plt.axis('tight')\n",
        "    plt.xlabel('True price ($1000s)')\n",
        "    plt.ylabel('Predicted price ($1000s)')\n",
        "    plt.tight_layout()"
      ],
      "metadata": {
        "id": "2Kuj6dHPDD_T"
      },
      "execution_count": 8,
      "outputs": []
    },
    {
      "cell_type": "code",
      "source": [
        "visualize_results(prediction(X, coefficients, intercept), y)"
      ],
      "metadata": {
        "id": "jNnGpw5PDKDj"
      },
      "execution_count": null,
      "outputs": []
    }
  ]
}