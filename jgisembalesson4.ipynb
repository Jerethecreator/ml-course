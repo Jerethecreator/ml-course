{
  "nbformat": 4,
  "nbformat_minor": 0,
  "metadata": {
    "colab": {
      "provenance": [],
      "authorship_tag": "ABX9TyMjZVFdnF/fYDpSNFqzcdpM",
      "include_colab_link": true
    },
    "kernelspec": {
      "name": "python3",
      "display_name": "Python 3"
    },
    "language_info": {
      "name": "python"
    }
  },
  "cells": [
    {
      "cell_type": "markdown",
      "metadata": {
        "id": "view-in-github",
        "colab_type": "text"
      },
      "source": [
        "<a href=\"https://colab.research.google.com/github/Jerethecreator/ml-course/blob/master/jgisembalesson4.ipynb\" target=\"_parent\"><img src=\"https://colab.research.google.com/assets/colab-badge.svg\" alt=\"Open In Colab\"/></a>"
      ]
    },
    {
      "cell_type": "code",
      "execution_count": null,
      "metadata": {
        "id": "q6r8E1LPGvuI"
      },
      "outputs": [],
      "source": [
        "from sklearn.datasets import make_blobs  # for making datasets\n",
        "from sklearn.cluster import KMeans\n",
        "import matplotlib.pyplot as plt  # for visualization\n",
        "import numpy as np  # for computation\n",
        "import random  # for random initialization\n",
        "import time\n",
        "from IPython.display import clear_output\n",
        "import cv2"
      ]
    },
    {
      "cell_type": "code",
      "source": [
        "K = 4\n",
        "X, y = make_blobs(n_samples=1000, n_features=2, centers=K, random_state=32)"
      ],
      "metadata": {
        "id": "rYfsFX9uG8Nz"
      },
      "execution_count": null,
      "outputs": []
    },
    {
      "cell_type": "code",
      "source": [
        "plt.scatter(X[:, 0], X[:, 1], c=y)"
      ],
      "metadata": {
        "id": "7C35Pjp9G-4x"
      },
      "execution_count": null,
      "outputs": []
    },
    {
      "cell_type": "code",
      "source": [
        "def init_centroids(X, K):\n",
        "  rand_indexes = random.choices(range(1000), k=4)\n",
        "  centroids = X[rand_indexes, :]\n",
        "  print(rand_indexes)\n",
        "  return centroids"
      ],
      "metadata": {
        "id": "n0PWuwKyHBOJ"
      },
      "execution_count": null,
      "outputs": []
    },
    {
      "cell_type": "code",
      "source": [
        "# for evaluation, we use fixed centroids instead of randomly initialized centroids\n",
        "fixed_init_centroids = X[[0, 250, 500, 750] , :]"
      ],
      "metadata": {
        "id": "H4Qk6BoiHDuZ"
      },
      "execution_count": null,
      "outputs": []
    },
    {
      "cell_type": "code",
      "source": [
        "def visualize(X, y, centroids):\n",
        "  plt.scatter(X[:, 0], X[:, 1], c=y)\n",
        "  plt.scatter(centroids[:, 0], centroids[:, 1], marker='^', s=200)\n",
        "  plt.show();\n",
        "visualize(X, y, fixed_init_centroid"
      ],
      "metadata": {
        "id": "DxdlIvWnHGEC"
      },
      "execution_count": null,
      "outputs": []
    },
    {
      "cell_type": "code",
      "source": [
        "dp1 = X[0]\n",
        "dp2 = X[1]\n",
        "\n",
        "# write your code below\n",
        "# you can use np.linalg.norm\n",
        "distance = np.linalg.norm(dp1 -dp2)\n",
        "\n",
        "# eval\n",
        "assert distance == 0.8347885963011235, \"Your answer is not correct\""
      ],
      "metadata": {
        "id": "uRCXqb2JHJQB"
      },
      "execution_count": null,
      "outputs": []
    },
    {
      "cell_type": "code",
      "source": [
        "# write a function to calculate distance between data points to centroids\n",
        "def data_centroid_distance(X, centroids):\n",
        "  distance = np.zeros((X.shape[0], centroids.shape[0])) # in which distance[i, j] is the distance between X[i] and centroids[j]\n",
        "  # write your code below\n",
        "  for i, centroid in enumerate(centroids):\n",
        "    distance[:, i] = np.sqrt(np.sum(np.square(X - centroid), axis=1))\n",
        "\n",
        "  return distance\n",
        "\n",
        "# evaluate\n",
        "distance = data_centroid_distance(X, fixed_init_centroids)\n",
        "assert distance[0, 0] == 0 and distance[250, 1] == 0 and distance[500, 2] == 0 and distance[750, 3] == 0, \"Your answer is not correct\""
      ],
      "metadata": {
        "id": "L_VWdCLtHL9J"
      },
      "execution_count": null,
      "outputs": []
    },
    {
      "cell_type": "code",
      "source": [
        "# write a function which assigns data points to clusters\n",
        "def assign_clusters(X, centroids):\n",
        "  y = np.zeros((X.shape[0]))\n",
        "  distance = data_centroid_distance(X, centroids)\n",
        "  # write your code below\n",
        "  y = np.argmin(distance, axis=1)\n",
        "\n",
        "  return y\n",
        "\n",
        "# evaluate\n",
        "assigned_y = assign_clusters(X, fixed_init_centroids)\n",
        "assert assigned_y[0] == 0 and assigned_y[250] == 1 and assigned_y[500] == 2 and assigned_y[750] == 3, \"Your answer is not correct\"\n",
        "visualize(X, assigned_y, fixed_init_centroids)  # check visually to see if the results are reasonable"
      ],
      "metadata": {
        "id": "xRBZQWEZHOTp"
      },
      "execution_count": null,
      "outputs": []
    },
    {
      "cell_type": "code",
      "source": [
        "def recalculate_centroids(X, y, K):\n",
        "  centroids = np.zeros((K, X.shape[1]))\n",
        "  # write your code below\n",
        "  for i in range(K):\n",
        "    centroids[i, :] = np.average(X[y==i, :], axis=0)\n",
        "\n",
        "  return centroids"
      ],
      "metadata": {
        "id": "vIAIbaC-HQTh"
      },
      "execution_count": null,
      "outputs": []
    },
    {
      "cell_type": "code",
      "source": [
        "def kmeans(X, K, max_iter=100):\n",
        "  centroids = init_centroids(X, K)                    # write your code here , centroids should be initialized randomly\n",
        "  for i in range(max_iter):\n",
        "    y = assign_clusters(X, centroids)                 # write your code here\n",
        "    new_centroids = recalculate_centroids(X, y, K)    # write your code here\n",
        "    clear_output()\n",
        "    print(f'Step: {i}')\n",
        "    visualize(X, y, centroids)\n",
        "    time.sleep(1)\n",
        "    if np.array_equal(centroids, new_centroids):\n",
        "      break\n",
        "    centroids = new_centroids\n",
        "\n",
        "# evaluate\n",
        "kmeans(X, K)"
      ],
      "metadata": {
        "id": "SrBTRVjkHSc5"
      },
      "execution_count": null,
      "outputs": []
    },
    {
      "cell_type": "code",
      "source": [
        "!wget https://ichef.bbci.co.uk/news/976/cpsprodpb/41CF/production/_109474861_angrycat-index-getty3-3.jpg -O cat.jpg -q # download image \n",
        "original_img = cv2.imread(\"cat.jpg\")[:, :, ::-1]\n",
        "plt.imshow(original_img)"
      ],
      "metadata": {
        "id": "fkia5kVcHVug"
      },
      "execution_count": null,
      "outputs": []
    },
    {
      "cell_type": "code",
      "source": [
        "def compress_image(original_img, n_colors=16):\n",
        "  img = np.reshape(original_img, (-1, 3))\n",
        "  kmeans = KMeans(n_clusters=n_colors, n_init=1)\n",
        "  kmeans.fit(img)\n",
        "  compressed_img = kmeans.cluster_centers_[kmeans.labels_]    # write your code here\n",
        "  compressed_img = np.reshape(compressed_img, original_img.shape).astype('uint8')\n",
        "  plt.imshow(compressed_img)\n",
        "\n",
        "# evaluate\n",
        "compress_image(original_img, n_colors=2)"
      ],
      "metadata": {
        "id": "jhQ5KwePHXyQ"
      },
      "execution_count": null,
      "outputs": []
    },
    {
      "cell_type": "code",
      "source": [
        "compress_image(original_img, n_colors=128)"
      ],
      "metadata": {
        "id": "mexKZtjcHaYx"
      },
      "execution_count": null,
      "outputs": []
    },
    {
      "cell_type": "code",
      "source": [
        "from sklearn.datasets import load_iris\n",
        "from sklearn.model_selection import train_test_split\n",
        "from sklearn.neighbors import KNeighborsClassifier\n",
        "from sklearn.metrics import accuracy_score\n",
        "import numpy as np"
      ],
      "metadata": {
        "id": "BfHISSc4Hcc4"
      },
      "execution_count": null,
      "outputs": []
    },
    {
      "cell_type": "code",
      "source": [
        "data = load_iris()\n",
        "X = data.data\n",
        "y = data.target"
      ],
      "metadata": {
        "id": "kYaGby1YHeGR"
      },
      "execution_count": null,
      "outputs": []
    },
    {
      "cell_type": "code",
      "source": [
        "X_train, X_test, y_train, y_test = train_test_split(\n",
        "    X, y, test_size=0.4, random_state=42)"
      ],
      "metadata": {
        "id": "-11xHwQLHgAB"
      },
      "execution_count": null,
      "outputs": []
    },
    {
      "cell_type": "code",
      "source": [
        "def KNN_predict(X_train, y_train, x_test, K):\n",
        "  '''\n",
        "  Evaluate the classification for `x_test` with K-nearest \n",
        "  neighbor given training set (X_train, y_train).\n",
        "    \n",
        "  Input:\n",
        "    X_train: features of training set\n",
        "    y_train: labels of training set\n",
        "    x_test : features of test data point\n",
        "    K      : number of nearest neighbors\n",
        "  Output:\n",
        "    Classification of the input data point.\n",
        "  '''\n",
        "  # write your code below\n",
        "  distance = np.sqrt(np.sum(np.square(X_train - x_test), axis=1))\n",
        "  neighbors = y_train[np.argpartition(distance, K)[:K]]\n",
        "  values, counts = np.unique(neighbors, return_counts=True)\n",
        "  prediction = values[np.argmax(counts)]\n",
        "\n",
        "  return prediction\n",
        "\n",
        "y_scratch_predict = np.zeros(y_test.shape)\n",
        "for i, x_test in enumerate(X_test):\n",
        "  y_scratch_predict[i] = KNN_predict(X_train, y_train, x_test, 3)\n",
        "cls = KNeighborsClassifier(n_neighbors=3, weights='uniform')\n",
        "cls.fit(X_train, y_train)\n",
        "y_sklearn_pred = cls.predict(X_test)\n",
        "match = accuracy_score(y_scratch_predict, y_sklearn_pred)\n",
        "assert match == 1.0, 'Your answer is not correct'"
      ],
      "metadata": {
        "id": "kQJUwQfuHjKg"
      },
      "execution_count": null,
      "outputs": []
    },
    {
      "cell_type": "code",
      "source": [
        "# write your code below\n",
        "K = 11\n",
        "weights = 'uniform'\n",
        "\n",
        "cls = KNeighborsClassifier(n_neighbors=K, weights=weights)\n",
        "cls.fit(X_train, y_train)\n",
        "y_pred = cls.predict(X_test)\n",
        "acc = accuracy_score(y_pred, y_test)\n",
        "print('Accuracy: ', acc)\n",
        "\n",
        "assert acc == 1.0, 'Your answer is not correct"
      ],
      "metadata": {
        "id": "2naf7QenHlLg"
      },
      "execution_count": null,
      "outputs": []
    }
  ]
}